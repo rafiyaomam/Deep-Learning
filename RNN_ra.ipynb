{
  "nbformat": 4,
  "nbformat_minor": 0,
  "metadata": {
    "colab": {
      "provenance": []
    },
    "kernelspec": {
      "name": "python3",
      "display_name": "Python 3"
    },
    "language_info": {
      "name": "python"
    }
  },
  "cells": [
    {
      "cell_type": "code",
      "source": [
        "import numpy as np\n",
        "from keras.models import Sequential\n",
        "from keras.layers import Dense,Activation,SimpleRNN\n",
        "from keras.utils import to_categorical,plot_model\n",
        "from keras.datasets import mnist"
      ],
      "metadata": {
        "id": "AGSiy741oj3C"
      },
      "execution_count": null,
      "outputs": []
    },
    {
      "cell_type": "code",
      "source": [
        "(x_train,y_train),(x_test,y_test)=mnist.load_data()"
      ],
      "metadata": {
        "id": "jSQ1W__Bolti"
      },
      "execution_count": null,
      "outputs": []
    },
    {
      "cell_type": "code",
      "source": [
        "#CONVERT TO ONE-HOT VECTOR\n",
        "y_train=to_categorical(y_train)\n",
        "y_test=to_categorical(y_test)"
      ],
      "metadata": {
        "id": "xfZFre38omVN"
      },
      "execution_count": null,
      "outputs": []
    },
    {
      "cell_type": "code",
      "source": [
        "# Flatten the 28x28 images to a 1D vector of 784 features\n",
        "X_train = X_train.reshape(-1, 28,28)\n",
        "X_test = X_test.reshape(-1, 28,28)"
      ],
      "metadata": {
        "id": "_WT9YSbXomXg"
      },
      "execution_count": null,
      "outputs": []
    },
    {
      "cell_type": "code",
      "source": [
        "#network parameters\n",
        "image_size=28\n",
        "input_shape=(image_size,image_size)\n",
        "batch_size=128\n",
        "units=28\n",
        "dropout=0.2"
      ],
      "metadata": {
        "id": "ZPmyDxcurG1z"
      },
      "execution_count": null,
      "outputs": []
    },
    {
      "cell_type": "code",
      "source": [
        "#model is RNN with 256 units,input-28dim vector with 28 timesteps\n",
        "model=Sequential()\n",
        "model.add(SimpleRNN(units=units,input_shape=input_shape))\n",
        "model.add(Dense(10))\n",
        "model.add(Activation('softmax'))\n",
        "model.summary()"
      ],
      "metadata": {
        "colab": {
          "base_uri": "https://localhost:8080/"
        },
        "id": "19q53N1PomZr",
        "outputId": "d0ca6b31-9671-471c-fdc8-c75262f16b03"
      },
      "execution_count": null,
      "outputs": [
        {
          "output_type": "stream",
          "name": "stdout",
          "text": [
            "Model: \"sequential_3\"\n",
            "_________________________________________________________________\n",
            " Layer (type)                Output Shape              Param #   \n",
            "=================================================================\n",
            " simple_rnn_1 (SimpleRNN)    (None, 28)                1596      \n",
            "                                                                 \n",
            " dense_5 (Dense)             (None, 10)                290       \n",
            "                                                                 \n",
            " activation (Activation)     (None, 10)                0         \n",
            "                                                                 \n",
            "=================================================================\n",
            "Total params: 1,886\n",
            "Trainable params: 1,886\n",
            "Non-trainable params: 0\n",
            "_________________________________________________________________\n"
          ]
        }
      ]
    },
    {
      "cell_type": "code",
      "source": [
        "#to compile the model\n",
        "model.compile(optimizer=\"adam\", loss = 'categorical_crossentropy', metrics = ['accuracy'])"
      ],
      "metadata": {
        "id": "k5Qkxae1omdg"
      },
      "execution_count": null,
      "outputs": []
    },
    {
      "cell_type": "code",
      "source": [
        "model.fit(x_train,y_train,epochs=20,batch_size=batch_size)"
      ],
      "metadata": {
        "colab": {
          "base_uri": "https://localhost:8080/"
        },
        "id": "HKyUL0ACrWqv",
        "outputId": "13047e1b-4ac1-4c0d-9799-a9f96e6e4aa2"
      },
      "execution_count": null,
      "outputs": [
        {
          "output_type": "stream",
          "name": "stdout",
          "text": [
            "Epoch 1/20\n",
            "469/469 [==============================] - 7s 10ms/step - loss: 1.7065 - accuracy: 0.3832\n",
            "Epoch 2/20\n",
            "469/469 [==============================] - 4s 9ms/step - loss: 1.4105 - accuracy: 0.4785\n",
            "Epoch 3/20\n",
            "469/469 [==============================] - 4s 8ms/step - loss: 1.3567 - accuracy: 0.4930\n",
            "Epoch 4/20\n",
            "469/469 [==============================] - 4s 9ms/step - loss: 1.3296 - accuracy: 0.5002\n",
            "Epoch 5/20\n",
            "469/469 [==============================] - 5s 10ms/step - loss: 1.3137 - accuracy: 0.5030\n",
            "Epoch 6/20\n",
            "469/469 [==============================] - 4s 8ms/step - loss: 1.3023 - accuracy: 0.5063\n",
            "Epoch 7/20\n",
            "469/469 [==============================] - 6s 13ms/step - loss: 1.2927 - accuracy: 0.5075\n",
            "Epoch 8/20\n",
            "469/469 [==============================] - 4s 9ms/step - loss: 1.2869 - accuracy: 0.5096\n",
            "Epoch 9/20\n",
            "469/469 [==============================] - 4s 8ms/step - loss: 1.2795 - accuracy: 0.5117\n",
            "Epoch 10/20\n",
            "469/469 [==============================] - 5s 11ms/step - loss: 1.2755 - accuracy: 0.5119\n",
            "Epoch 11/20\n",
            "469/469 [==============================] - 7s 14ms/step - loss: 1.2685 - accuracy: 0.5138\n",
            "Epoch 12/20\n",
            "469/469 [==============================] - 4s 8ms/step - loss: 1.2637 - accuracy: 0.5151\n",
            "Epoch 13/20\n",
            "469/469 [==============================] - 5s 10ms/step - loss: 1.2601 - accuracy: 0.5148\n",
            "Epoch 14/20\n",
            "469/469 [==============================] - 4s 9ms/step - loss: 1.2534 - accuracy: 0.5177\n",
            "Epoch 15/20\n",
            "469/469 [==============================] - 4s 9ms/step - loss: 1.2452 - accuracy: 0.5203\n",
            "Epoch 16/20\n",
            "469/469 [==============================] - 5s 10ms/step - loss: 1.2349 - accuracy: 0.5242\n",
            "Epoch 17/20\n",
            "469/469 [==============================] - 4s 9ms/step - loss: 1.2285 - accuracy: 0.5252\n",
            "Epoch 18/20\n",
            "469/469 [==============================] - 4s 8ms/step - loss: 1.2271 - accuracy: 0.5269\n",
            "Epoch 19/20\n",
            "469/469 [==============================] - 4s 9ms/step - loss: 1.2224 - accuracy: 0.5265\n",
            "Epoch 20/20\n",
            "469/469 [==============================] - 5s 10ms/step - loss: 1.2199 - accuracy: 0.5292\n"
          ]
        },
        {
          "output_type": "execute_result",
          "data": {
            "text/plain": [
              "<keras.callbacks.History at 0x7d185bcef670>"
            ]
          },
          "metadata": {},
          "execution_count": 34
        }
      ]
    },
    {
      "cell_type": "code",
      "source": [
        "loss,acc=model.evaluate(x_test,y_test,batch_size=batch_size)\n",
        "print(\"\\nTest accuracy:%.1f%%\" % (100.0*acc))"
      ],
      "metadata": {
        "colab": {
          "base_uri": "https://localhost:8080/"
        },
        "id": "wBCE0GECr8p5",
        "outputId": "65aee003-e126-4efe-bdc2-c1c43cca9aae"
      },
      "execution_count": null,
      "outputs": [
        {
          "output_type": "stream",
          "name": "stdout",
          "text": [
            "79/79 [==============================] - 2s 9ms/step - loss: 1.2415 - accuracy: 0.5228\n",
            "\n",
            "Test accuracy:52.3%\n"
          ]
        }
      ]
    }
  ]
}