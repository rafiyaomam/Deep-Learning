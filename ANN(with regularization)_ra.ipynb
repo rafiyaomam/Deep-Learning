{
  "nbformat": 4,
  "nbformat_minor": 0,
  "metadata": {
    "colab": {
      "provenance": [],
      "gpuType": "T4"
    },
    "kernelspec": {
      "name": "python3",
      "display_name": "Python 3"
    },
    "language_info": {
      "name": "python"
    },
    "accelerator": "GPU"
  },
  "cells": [
    {
      "cell_type": "markdown",
      "source": [
        "**Q 1**"
      ],
      "metadata": {
        "id": "hRM1sUtZJMwZ"
      }
    },
    {
      "cell_type": "code",
      "execution_count": null,
      "metadata": {
        "id": "HXycdOv66I3H"
      },
      "outputs": [],
      "source": [
        "from google.colab import drive\n",
        "drive.mount('/content/drive')"
      ]
    },
    {
      "cell_type": "code",
      "source": [
        "import pandas as pd\n",
        "import numpy as np\n",
        "from sklearn.model_selection import train_test_split\n",
        "from sklearn.preprocessing import StandardScaler\n",
        "from keras.models import Sequential\n",
        "from keras.layers import Dense\n",
        "from tensorflow.keras import regularizers\n",
        "data=pd.read_csv('/content/drive/MyDrive/weather dataset/weatherAUS.csv')"
      ],
      "metadata": {
        "id": "ih1vA3df72xU"
      },
      "execution_count": null,
      "outputs": []
    },
    {
      "cell_type": "code",
      "source": [
        "data.info()"
      ],
      "metadata": {
        "id": "wxBj6nk18XD2"
      },
      "execution_count": null,
      "outputs": []
    },
    {
      "cell_type": "code",
      "source": [
        "data.head(10)"
      ],
      "metadata": {
        "id": "j5sQHY69-sKG"
      },
      "execution_count": null,
      "outputs": []
    },
    {
      "cell_type": "code",
      "source": [
        "data.isnull().sum()"
      ],
      "metadata": {
        "id": "xT_WWE4T82fn"
      },
      "execution_count": null,
      "outputs": []
    },
    {
      "cell_type": "code",
      "source": [
        "data.describe()"
      ],
      "metadata": {
        "id": "JB5NYfRW9FIW"
      },
      "execution_count": null,
      "outputs": []
    },
    {
      "cell_type": "code",
      "source": [
        "from sklearn import preprocessing\n",
        "label_encoder = preprocessing.LabelEncoder()\n",
        "data['WindGustDir']= label_encoder.fit_transform(data['WindGustDir'])\n",
        "data['WindDir9am']= label_encoder.fit_transform(data['WindDir9am'])\n",
        "data['WindDir3pm']= label_encoder.fit_transform(data['WindDir3pm'])\n",
        "data['RainToday']= label_encoder.fit_transform(data['RainToday'])\n",
        "data['RainTomorrow']= label_encoder.fit_transform(data['RainTomorrow'])"
      ],
      "metadata": {
        "id": "cbL3zE4--nMt"
      },
      "execution_count": null,
      "outputs": []
    },
    {
      "cell_type": "code",
      "source": [
        "#Imputating missing values\n",
        "data_num=data.select_dtypes(exclude=['object'])\n",
        "from sklearn.impute import SimpleImputer\n",
        "data1=data_num.copy()\n",
        "impute=SimpleImputer(strategy='mean')\n",
        "data1.iloc[:,:]=impute.fit_transform(data_num)"
      ],
      "metadata": {
        "id": "LNhMdGKNF-pj"
      },
      "execution_count": null,
      "outputs": []
    },
    {
      "cell_type": "code",
      "source": [
        "from sklearn import preprocessing\n",
        "data_n=data1.copy()\n",
        "data_n.iloc[:,:]=preprocessing.normalize(data1)"
      ],
      "metadata": {
        "id": "I_Pr-lVcEun7"
      },
      "execution_count": null,
      "outputs": []
    },
    {
      "cell_type": "code",
      "source": [
        "x = data_n.drop('RainTomorrow', axis=1)\n",
        "y = data_n['RainTomorrow']"
      ],
      "metadata": {
        "id": "uVa3OvD0Ao5G"
      },
      "execution_count": null,
      "outputs": []
    },
    {
      "cell_type": "code",
      "source": [
        "x_train, x_test, y_train, y_test = train_test_split(x, y, test_size=0.2, random_state=111)"
      ],
      "metadata": {
        "id": "_mkonkF0DNsN"
      },
      "execution_count": null,
      "outputs": []
    },
    {
      "cell_type": "code",
      "source": [
        "model = Sequential()\n",
        "model.add(Dense(10, input_dim=x_train.shape[1], activation='relu'))\n",
        "model.add(Dense(1, activation='sigmoid'))\n",
        "model.compile(loss='binary_crossentropy', optimizer='adam', metrics=['accuracy'])"
      ],
      "metadata": {
        "id": "yp1mJvWlEb_2"
      },
      "execution_count": null,
      "outputs": []
    },
    {
      "cell_type": "code",
      "source": [
        "history1 = model.fit(x_train, y_train, validation_data=(x_test, y_test), epochs=10, batch_size=128, verbose=1)"
      ],
      "metadata": {
        "id": "4FEuyuUtLEki"
      },
      "execution_count": null,
      "outputs": []
    },
    {
      "cell_type": "code",
      "source": [
        "from keras import regularizers\n",
        "modelr = Sequential()\n",
        "modelr.add(Dense(100, input_dim=x_train.shape[1], activation='relu',kernel_regularizer=regularizers.L1L2(l1=0.001,l2=0.0001)))\n",
        "modelr.add(Dense(1, activation='sigmoid',activity_regularizer=regularizers.L2(1e-5)))\n",
        "modelr.compile(loss='binary_crossentropy', optimizer='adam', metrics=['accuracy'])"
      ],
      "metadata": {
        "id": "Rr2AVMtrK7pE"
      },
      "execution_count": null,
      "outputs": []
    },
    {
      "cell_type": "code",
      "source": [
        "history2 = modelr.fit(x_train, y_train, validation_data=(x_test, y_test), epochs=10, batch_size=101, verbose=1)"
      ],
      "metadata": {
        "id": "SXnMy792Onxg"
      },
      "execution_count": null,
      "outputs": []
    },
    {
      "cell_type": "code",
      "source": [
        "plt.figure(figsize=(12, 4))\n",
        "plt.subplot(1, 2, 1)\n",
        "plt.plot(history1.history['val_accuracy'], label='ANN Accuracy')\n",
        "plt.plot(history2.history['val_accuracy'], label='Regularisation Accuracy')\n",
        "plt.xlabel('Epochs')\n",
        "plt.ylabel('Accuracy')\n",
        "plt.legend()\n",
        "\n",
        "plt.subplot(1, 2, 2)\n",
        "plt.plot(history1.history['val_loss'], label='ANN Validation Loss')\n",
        "plt.plot(history2.history['val_loss'], label='After regularisation Validation Loss')\n",
        "plt.xlabel('Epochs')\n",
        "plt.ylabel('Loss')\n",
        "plt.legend()\n",
        "\n",
        "plt.show()"
      ],
      "metadata": {
        "id": "HDvhLKGoKMTA"
      },
      "execution_count": null,
      "outputs": []
    }
  ]
}