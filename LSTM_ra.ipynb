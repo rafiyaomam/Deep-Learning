{
  "nbformat": 4,
  "nbformat_minor": 0,
  "metadata": {
    "colab": {
      "provenance": []
    },
    "kernelspec": {
      "name": "python3",
      "display_name": "Python 3"
    },
    "language_info": {
      "name": "python"
    }
  },
  "cells": [
    {
      "cell_type": "code",
      "source": [
        "import numpy as np\n",
        "import tensorflow as tf\n",
        "from tensorflow.keras.datasets import mnist\n",
        "from tensorflow.keras.models import Sequential\n",
        "from tensorflow.keras.layers import LSTM, Dense"
      ],
      "metadata": {
        "id": "qPpSt5TnsERC"
      },
      "execution_count": null,
      "outputs": []
    },
    {
      "cell_type": "code",
      "source": [
        "# Load and preprocess the MNIST dataset\n",
        "(X_train, y_train), (X_test, y_test) = mnist.load_data()"
      ],
      "metadata": {
        "id": "Mjxd1__lsPcq"
      },
      "execution_count": null,
      "outputs": []
    },
    {
      "cell_type": "code",
      "source": [
        "# Normalize the pixel values to range [0, 1]\n",
        "X_train = X_train.astype('float32') / 255.0\n",
        "X_test = X_test.astype('float32') / 255.0"
      ],
      "metadata": {
        "id": "PY9CEAensQfW"
      },
      "execution_count": null,
      "outputs": []
    },
    {
      "cell_type": "code",
      "source": [
        "X_train = X_train.reshape(-1,28,28)\n",
        "X_test = X_test.reshape(-1,28,28)"
      ],
      "metadata": {
        "id": "BXNrwMzfsRei"
      },
      "execution_count": null,
      "outputs": []
    },
    {
      "cell_type": "code",
      "source": [
        "# One-hot encode the target labels\n",
        "y_train = to_categorical(y_train, 10)\n",
        "y_test = to_categorical(y_test, 10)"
      ],
      "metadata": {
        "id": "lb7w5-HgsYet"
      },
      "execution_count": null,
      "outputs": []
    },
    {
      "cell_type": "code",
      "source": [
        "# Build the LSTM model\n",
        "model = Sequential([\n",
        "    LSTM(128, input_shape=(28,28)),\n",
        "    Dense(10, activation='softmax')\n",
        "])"
      ],
      "metadata": {
        "id": "FLQK9z2msb71"
      },
      "execution_count": null,
      "outputs": []
    },
    {
      "cell_type": "code",
      "source": [
        "# Compile the model\n",
        "model.compile(optimizer='adam', loss='categorical_crossentropy', metrics=['accuracy'])"
      ],
      "metadata": {
        "id": "GzppjcXHsdfH"
      },
      "execution_count": null,
      "outputs": []
    },
    {
      "cell_type": "code",
      "source": [
        "# Train the model\n",
        "model.fit(X_train, y_train, epochs=10, batch_size=32, validation_split=0.1)"
      ],
      "metadata": {
        "colab": {
          "base_uri": "https://localhost:8080/"
        },
        "id": "AltgrXLJsgyP",
        "outputId": "8d3a48e5-7f6a-4ce7-be1e-f69929defe8a"
      },
      "execution_count": null,
      "outputs": [
        {
          "output_type": "stream",
          "name": "stdout",
          "text": [
            "Epoch 1/10\n",
            "1688/1688 [==============================] - 81s 46ms/step - loss: 0.3602 - accuracy: 0.8838 - val_loss: 0.1107 - val_accuracy: 0.9668\n",
            "Epoch 2/10\n",
            "1688/1688 [==============================] - 78s 46ms/step - loss: 0.1138 - accuracy: 0.9656 - val_loss: 0.0829 - val_accuracy: 0.9767\n",
            "Epoch 3/10\n",
            "1688/1688 [==============================] - 76s 45ms/step - loss: 0.0756 - accuracy: 0.9767 - val_loss: 0.0775 - val_accuracy: 0.9778\n",
            "Epoch 4/10\n",
            "1688/1688 [==============================] - 78s 46ms/step - loss: 0.0618 - accuracy: 0.9815 - val_loss: 0.0505 - val_accuracy: 0.9855\n",
            "Epoch 5/10\n",
            "1688/1688 [==============================] - 77s 46ms/step - loss: 0.0485 - accuracy: 0.9853 - val_loss: 0.0486 - val_accuracy: 0.9857\n",
            "Epoch 6/10\n",
            "1688/1688 [==============================] - 78s 46ms/step - loss: 0.0404 - accuracy: 0.9875 - val_loss: 0.0588 - val_accuracy: 0.9853\n",
            "Epoch 7/10\n",
            "1688/1688 [==============================] - 78s 46ms/step - loss: 0.0370 - accuracy: 0.9886 - val_loss: 0.0383 - val_accuracy: 0.9902\n",
            "Epoch 8/10\n",
            "1688/1688 [==============================] - 78s 46ms/step - loss: 0.0289 - accuracy: 0.9911 - val_loss: 0.0526 - val_accuracy: 0.9870\n",
            "Epoch 9/10\n",
            "1688/1688 [==============================] - 81s 48ms/step - loss: 0.0260 - accuracy: 0.9918 - val_loss: 0.0439 - val_accuracy: 0.9880\n",
            "Epoch 10/10\n",
            "1688/1688 [==============================] - 78s 46ms/step - loss: 0.0251 - accuracy: 0.9923 - val_loss: 0.0411 - val_accuracy: 0.9900\n"
          ]
        },
        {
          "output_type": "execute_result",
          "data": {
            "text/plain": [
              "<keras.callbacks.History at 0x7d185b9f4d60>"
            ]
          },
          "metadata": {},
          "execution_count": 45
        }
      ]
    },
    {
      "cell_type": "code",
      "source": [
        "# Evaluate the model on the test set\n",
        "loss, accuracy = model.evaluate(X_test, y_test)\n",
        "print(f'Test Loss: {loss}, Test Accuracy: {accuracy}')"
      ],
      "metadata": {
        "colab": {
          "base_uri": "https://localhost:8080/"
        },
        "id": "GiyPWRYish3W",
        "outputId": "a1500bd6-c0f0-40fa-96b2-56e3bec91494"
      },
      "execution_count": null,
      "outputs": [
        {
          "output_type": "stream",
          "name": "stdout",
          "text": [
            "313/313 [==============================] - 5s 16ms/step - loss: 0.0428 - accuracy: 0.9876\n",
            "Test Loss: 0.04279191419482231, Test Accuracy: 0.9876000285148621\n"
          ]
        }
      ]
    },
    {
      "cell_type": "code",
      "source": [],
      "metadata": {
        "id": "jwZUVtVvLZfw"
      },
      "execution_count": null,
      "outputs": []
    },
    {
      "cell_type": "code",
      "source": [],
      "metadata": {
        "id": "SOvbPKnivnNO"
      },
      "execution_count": null,
      "outputs": []
    }
  ]
}